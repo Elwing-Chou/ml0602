{
  "nbformat": 4,
  "nbformat_minor": 0,
  "metadata": {
    "colab": {
      "name": "transferlearning.ipynb",
      "provenance": [],
      "mount_file_id": "1ZjCKlmHs5ysr6H3wM_I3wvO50ZJzzdjX",
      "authorship_tag": "ABX9TyPDv2u1TRO9/sVyepG6Sa9l",
      "include_colab_link": true
    },
    "kernelspec": {
      "name": "python3",
      "display_name": "Python 3"
    },
    "language_info": {
      "name": "python"
    },
    "accelerator": "GPU"
  },
  "cells": [
    {
      "cell_type": "markdown",
      "metadata": {
        "id": "view-in-github",
        "colab_type": "text"
      },
      "source": [
        "<a href=\"https://colab.research.google.com/github/Elwing-Chou/ml0602/blob/main/transferlearning.ipynb\" target=\"_parent\"><img src=\"https://colab.research.google.com/assets/colab-badge.svg\" alt=\"Open In Colab\"/></a>"
      ]
    },
    {
      "cell_type": "code",
      "metadata": {
        "id": "OckSDRWQ_EuM"
      },
      "source": [
        "import zipfile\n",
        "fn = \"/content/drive/MyDrive/additional/train.zip\"\n",
        "zf = zipfile.ZipFile(fn)\n",
        "zf.extractall()"
      ],
      "execution_count": 1,
      "outputs": []
    }
  ]
}