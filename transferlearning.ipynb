{
  "nbformat": 4,
  "nbformat_minor": 0,
  "metadata": {
    "colab": {
      "name": "transferlearning.ipynb",
      "provenance": [],
      "mount_file_id": "1ZjCKlmHs5ysr6H3wM_I3wvO50ZJzzdjX",
      "authorship_tag": "ABX9TyP1tDG4svnf3rJszEmZaQRM",
      "include_colab_link": true
    },
    "kernelspec": {
      "name": "python3",
      "display_name": "Python 3"
    },
    "language_info": {
      "name": "python"
    },
    "accelerator": "GPU"
  },
  "cells": [
    {
      "cell_type": "markdown",
      "metadata": {
        "id": "view-in-github",
        "colab_type": "text"
      },
      "source": [
        "<a href=\"https://colab.research.google.com/github/Elwing-Chou/ml0602/blob/main/transferlearning.ipynb\" target=\"_parent\"><img src=\"https://colab.research.google.com/assets/colab-badge.svg\" alt=\"Open In Colab\"/></a>"
      ]
    },
    {
      "cell_type": "code",
      "metadata": {
        "id": "OckSDRWQ_EuM"
      },
      "source": [
        "import zipfile\n",
        "fn = \"/content/drive/MyDrive/additional/train.zip\"\n",
        "zf = zipfile.ZipFile(fn)\n",
        "zf.extractall()"
      ],
      "execution_count": 1,
      "outputs": []
    },
    {
      "cell_type": "code",
      "metadata": {
        "id": "1PMix_uocm_H"
      },
      "source": [
        "import glob\n",
        "import matplotlib.pyplot as plt\n",
        "from PIL import Image\n",
        "fns = glob.glob(\"train/*\")\n",
        "print(len(fns))\n",
        "img = Image.open(fns[0])\n",
        "print(img.size)\n",
        "plt.imshow(img)"
      ],
      "execution_count": null,
      "outputs": []
    },
    {
      "cell_type": "code",
      "metadata": {
        "colab": {
          "base_uri": "https://localhost:8080/",
          "height": 421
        },
        "id": "uA7wiz_pdNY-",
        "outputId": "4233a5f5-7391-4994-d77d-caa9e52e512e"
      },
      "source": [
        "import pandas as pd\n",
        "dogf =  glob.glob(\"train/dog.*\")\n",
        "catf =  glob.glob(\"train/cat.*\")\n",
        "data = pd.DataFrame({\n",
        "  \"path\":dogf + catf,\n",
        "  \"target\":[0] * len(dogf) + [1] * len(catf)\n",
        "})\n",
        "data"
      ],
      "execution_count": 11,
      "outputs": [
        {
          "output_type": "execute_result",
          "data": {
            "text/html": [
              "<div>\n",
              "<style scoped>\n",
              "    .dataframe tbody tr th:only-of-type {\n",
              "        vertical-align: middle;\n",
              "    }\n",
              "\n",
              "    .dataframe tbody tr th {\n",
              "        vertical-align: top;\n",
              "    }\n",
              "\n",
              "    .dataframe thead th {\n",
              "        text-align: right;\n",
              "    }\n",
              "</style>\n",
              "<table border=\"1\" class=\"dataframe\">\n",
              "  <thead>\n",
              "    <tr style=\"text-align: right;\">\n",
              "      <th></th>\n",
              "      <th>path</th>\n",
              "      <th>target</th>\n",
              "    </tr>\n",
              "  </thead>\n",
              "  <tbody>\n",
              "    <tr>\n",
              "      <th>0</th>\n",
              "      <td>train/dog.10694.jpg</td>\n",
              "      <td>0</td>\n",
              "    </tr>\n",
              "    <tr>\n",
              "      <th>1</th>\n",
              "      <td>train/dog.4214.jpg</td>\n",
              "      <td>0</td>\n",
              "    </tr>\n",
              "    <tr>\n",
              "      <th>2</th>\n",
              "      <td>train/dog.1140.jpg</td>\n",
              "      <td>0</td>\n",
              "    </tr>\n",
              "    <tr>\n",
              "      <th>3</th>\n",
              "      <td>train/dog.7814.jpg</td>\n",
              "      <td>0</td>\n",
              "    </tr>\n",
              "    <tr>\n",
              "      <th>4</th>\n",
              "      <td>train/dog.456.jpg</td>\n",
              "      <td>0</td>\n",
              "    </tr>\n",
              "    <tr>\n",
              "      <th>...</th>\n",
              "      <td>...</td>\n",
              "      <td>...</td>\n",
              "    </tr>\n",
              "    <tr>\n",
              "      <th>24995</th>\n",
              "      <td>train/cat.7656.jpg</td>\n",
              "      <td>1</td>\n",
              "    </tr>\n",
              "    <tr>\n",
              "      <th>24996</th>\n",
              "      <td>train/cat.2840.jpg</td>\n",
              "      <td>1</td>\n",
              "    </tr>\n",
              "    <tr>\n",
              "      <th>24997</th>\n",
              "      <td>train/cat.9132.jpg</td>\n",
              "      <td>1</td>\n",
              "    </tr>\n",
              "    <tr>\n",
              "      <th>24998</th>\n",
              "      <td>train/cat.5773.jpg</td>\n",
              "      <td>1</td>\n",
              "    </tr>\n",
              "    <tr>\n",
              "      <th>24999</th>\n",
              "      <td>train/cat.11598.jpg</td>\n",
              "      <td>1</td>\n",
              "    </tr>\n",
              "  </tbody>\n",
              "</table>\n",
              "<p>25000 rows × 2 columns</p>\n",
              "</div>"
            ],
            "text/plain": [
              "                      path  target\n",
              "0      train/dog.10694.jpg       0\n",
              "1       train/dog.4214.jpg       0\n",
              "2       train/dog.1140.jpg       0\n",
              "3       train/dog.7814.jpg       0\n",
              "4        train/dog.456.jpg       0\n",
              "...                    ...     ...\n",
              "24995   train/cat.7656.jpg       1\n",
              "24996   train/cat.2840.jpg       1\n",
              "24997   train/cat.9132.jpg       1\n",
              "24998   train/cat.5773.jpg       1\n",
              "24999  train/cat.11598.jpg       1\n",
              "\n",
              "[25000 rows x 2 columns]"
            ]
          },
          "metadata": {
            "tags": []
          },
          "execution_count": 11
        }
      ]
    },
    {
      "cell_type": "code",
      "metadata": {
        "id": "8Rtf_oE2goDq"
      },
      "source": [
        "from tensorflow.keras.applications.vgg16 import VGG16\n",
        "from tensorflow.keras.models import Model, Sequential\n",
        "from tensorflow.keras.layers import GlobalAveragePooling2D, Dense\n",
        "vgg = VGG16(include_top=False, input_shape=(224, 224, 3))\n",
        "t1 = GlobalAveragePooling2D()(vgg.output)\n",
        "out = Dense(2, activation=\"softmax\")(t1)\n",
        "model = Model(inputs=vgg.input, outputs=out)\n",
        "model.summary()"
      ],
      "execution_count": null,
      "outputs": []
    },
    {
      "cell_type": "code",
      "metadata": {
        "colab": {
          "base_uri": "https://localhost:8080/"
        },
        "id": "XAKskA5Tig9p",
        "outputId": "1ac4d8f2-b030-4e3b-9b22-76ab28d01cc4"
      },
      "source": [
        "vgg = VGG16(include_top=False, input_shape=(224, 224, 3))\n",
        "# trainable設定一定要在compile之前\n",
        "for l in vgg.layers:\n",
        "    l.trainable = False\n",
        "layers = [\n",
        "    GlobalAveragePooling2D(),\n",
        "    Dense(2, activation=\"softmax\")\n",
        "]\n",
        "model = Sequential(vgg.layers + layers)\n",
        "model.summary()"
      ],
      "execution_count": 20,
      "outputs": [
        {
          "output_type": "stream",
          "text": [
            "Model: \"sequential_2\"\n",
            "_________________________________________________________________\n",
            "Layer (type)                 Output Shape              Param #   \n",
            "=================================================================\n",
            "block1_conv1 (Conv2D)        (None, 224, 224, 64)      1792      \n",
            "_________________________________________________________________\n",
            "block1_conv2 (Conv2D)        (None, 224, 224, 64)      36928     \n",
            "_________________________________________________________________\n",
            "block1_pool (MaxPooling2D)   (None, 112, 112, 64)      0         \n",
            "_________________________________________________________________\n",
            "block2_conv1 (Conv2D)        (None, 112, 112, 128)     73856     \n",
            "_________________________________________________________________\n",
            "block2_conv2 (Conv2D)        (None, 112, 112, 128)     147584    \n",
            "_________________________________________________________________\n",
            "block2_pool (MaxPooling2D)   (None, 56, 56, 128)       0         \n",
            "_________________________________________________________________\n",
            "block3_conv1 (Conv2D)        (None, 56, 56, 256)       295168    \n",
            "_________________________________________________________________\n",
            "block3_conv2 (Conv2D)        (None, 56, 56, 256)       590080    \n",
            "_________________________________________________________________\n",
            "block3_conv3 (Conv2D)        (None, 56, 56, 256)       590080    \n",
            "_________________________________________________________________\n",
            "block3_pool (MaxPooling2D)   (None, 28, 28, 256)       0         \n",
            "_________________________________________________________________\n",
            "block4_conv1 (Conv2D)        (None, 28, 28, 512)       1180160   \n",
            "_________________________________________________________________\n",
            "block4_conv2 (Conv2D)        (None, 28, 28, 512)       2359808   \n",
            "_________________________________________________________________\n",
            "block4_conv3 (Conv2D)        (None, 28, 28, 512)       2359808   \n",
            "_________________________________________________________________\n",
            "block4_pool (MaxPooling2D)   (None, 14, 14, 512)       0         \n",
            "_________________________________________________________________\n",
            "block5_conv1 (Conv2D)        (None, 14, 14, 512)       2359808   \n",
            "_________________________________________________________________\n",
            "block5_conv2 (Conv2D)        (None, 14, 14, 512)       2359808   \n",
            "_________________________________________________________________\n",
            "block5_conv3 (Conv2D)        (None, 14, 14, 512)       2359808   \n",
            "_________________________________________________________________\n",
            "block5_pool (MaxPooling2D)   (None, 7, 7, 512)         0         \n",
            "_________________________________________________________________\n",
            "global_average_pooling2d_3 ( (None, 512)               0         \n",
            "_________________________________________________________________\n",
            "dense_3 (Dense)              (None, 2)                 1026      \n",
            "=================================================================\n",
            "Total params: 14,715,714\n",
            "Trainable params: 1,026\n",
            "Non-trainable params: 14,714,688\n",
            "_________________________________________________________________\n"
          ],
          "name": "stdout"
        }
      ]
    },
    {
      "cell_type": "code",
      "metadata": {
        "id": "7QQgBYGllgfU"
      },
      "source": [
        "from tensorflow.keras.losses import SparseCategoricalCrossentropy\n",
        "from tensorflow.keras.optimizers import Adam\n",
        "model.compile(loss=SparseCategoricalCrossentropy(),\n",
        "              optimizer=Adam(),\n",
        "              metrics=[\"accuracy\"])"
      ],
      "execution_count": 21,
      "outputs": []
    },
    {
      "cell_type": "code",
      "metadata": {
        "id": "qn6CJX5bsHzG"
      },
      "source": [
        "test = np.random.randint(0, 255, size=(3, 32, 32, 3))\n",
        "# np.array[第一個軸我要哪幾個, 第二個軸我要哪幾個....]\n",
        "print(test.shape)\n",
        "print(test[0:2].shape)\n",
        "print(test[0:2,0:28,0:28,0:2].shape)\n",
        "print(test[:,:,:,0:2].shape)\n",
        "print(test[...,0:2].shape)"
      ],
      "execution_count": null,
      "outputs": []
    },
    {
      "cell_type": "code",
      "metadata": {
        "id": "1ZwzbncEpgSl"
      },
      "source": [
        "import numpy as np\n",
        "# 圖片如何處理: 不是除255.0, 請always使用你偷來的模型同樣處理方式\n",
        "from tensorflow.keras.applications.vgg16 import preprocess_input\n",
        "img = Image.open(fns[0]).convert(\"RGB\").resize((224, 224))\n",
        "img_np = np.array(img)\n",
        "preprocess_input(img_np)"
      ],
      "execution_count": null,
      "outputs": []
    },
    {
      "cell_type": "code",
      "metadata": {
        "id": "4iuPSqoFoNPw"
      },
      "source": [
        "# 我們無法使用fit, 1. fit_generator 2.train_on_batch/test_on_batch\n",
        "# random.randint(0, 2(inclusive)): 0,1,2\n",
        "# np.random,randint(0, 3(exclusive)): 0,1,2\n",
        "def get_data(x, y, batch=20):\n",
        "    idx = np.random.randint(0, len(x), size=batch)\n",
        "    xidx, yidx = x[idx], y[idx]\n",
        "    img_ori, img_pre, ans = [], [], []\n",
        "    for xi, yi in zip(xidx, yidx):\n",
        "        img = Image.open(xi).convert(\"RGB\").resize((224, 224))\n",
        "        img_np = np.array(img)\n",
        "        img_p = preprocess_input(img_np)\n",
        "        img_ori.append(img_np)\n",
        "        img_pre.append(img_p)\n",
        "        ans.append(yi)\n",
        "    return np.array(img_ori), np.array(img_pre), np.array(ans)"
      ],
      "execution_count": 58,
      "outputs": []
    },
    {
      "cell_type": "code",
      "metadata": {
        "colab": {
          "base_uri": "https://localhost:8080/"
        },
        "id": "iB7JhrHFpKG6",
        "outputId": "8991fbf1-09c7-428d-c72c-bda0f148fb9c"
      },
      "source": [
        "from sklearn.model_selection import train_test_split\n",
        "x, y = np.array(data[\"path\"]), np.array(data[\"target\"])\n",
        "x_train, x_test, y_train, y_test = train_test_split(x, y, test_size=0.1)\n",
        "img_ori, img_pre, ans = get_data(x_train, y_train)\n",
        "print(img_ori.shape)\n",
        "print(img_pre.shape)\n",
        "print(ans.shape)"
      ],
      "execution_count": 59,
      "outputs": [
        {
          "output_type": "stream",
          "text": [
            "(20, 224, 224, 3)\n",
            "(20, 224, 224, 3)\n",
            "(20,)\n"
          ],
          "name": "stdout"
        }
      ]
    },
    {
      "cell_type": "code",
      "metadata": {
        "colab": {
          "base_uri": "https://localhost:8080/"
        },
        "id": "j9sorhhN48m8",
        "outputId": "61bcd98a-be5c-4e47-be95-658045f43760"
      },
      "source": [
        "for i in range(100):\n",
        "    print(\"-\" * 15, i, \"-\" * 15)\n",
        "    img_ori, img_p, ans = get_data(x_train, y_train)\n",
        "    result = model.train_on_batch(img_p, ans)\n",
        "    print(\"train:\", result)\n",
        "    img_ori, img_p, ans = get_data(x_test, y_test)\n",
        "    result = model.test_on_batch(img_p, ans)\n",
        "    print(\"validate:\", result)"
      ],
      "execution_count": null,
      "outputs": [
        {
          "output_type": "stream",
          "text": [
            "--------------- 0 ---------------\n",
            "train: [3.983376979827881, 0.44999998807907104]\n",
            "validate: [2.4128313064575195, 0.30000001192092896]\n",
            "--------------- 1 ---------------\n",
            "train: [2.898496389389038, 0.4000000059604645]\n",
            "validate: [1.8780397176742554, 0.5]\n",
            "--------------- 2 ---------------\n",
            "train: [5.622555732727051, 0.3499999940395355]\n",
            "validate: [1.9093525409698486, 0.6499999761581421]\n",
            "--------------- 3 ---------------\n",
            "train: [2.516493320465088, 0.4000000059604645]\n",
            "validate: [3.9984593391418457, 0.550000011920929]\n",
            "--------------- 4 ---------------\n",
            "train: [2.7648043632507324, 0.699999988079071]\n",
            "validate: [1.9858211278915405, 0.6000000238418579]\n",
            "--------------- 5 ---------------\n",
            "train: [2.1171000003814697, 0.6000000238418579]\n",
            "validate: [0.685857892036438, 0.800000011920929]\n",
            "--------------- 6 ---------------\n",
            "train: [1.919808030128479, 0.699999988079071]\n",
            "validate: [2.482740879058838, 0.6499999761581421]\n",
            "--------------- 7 ---------------\n",
            "train: [1.691626787185669, 0.6499999761581421]\n",
            "validate: [0.9520264863967896, 0.699999988079071]\n",
            "--------------- 8 ---------------\n",
            "train: [1.355342149734497, 0.699999988079071]\n",
            "validate: [2.137380838394165, 0.6000000238418579]\n",
            "--------------- 9 ---------------\n",
            "train: [2.3421247005462646, 0.4000000059604645]\n",
            "validate: [3.2499477863311768, 0.6499999761581421]\n",
            "--------------- 10 ---------------\n",
            "train: [2.7909297943115234, 0.6499999761581421]\n",
            "validate: [2.8635470867156982, 0.6000000238418579]\n",
            "--------------- 11 ---------------\n",
            "train: [1.9565904140472412, 0.699999988079071]\n",
            "validate: [1.714087724685669, 0.699999988079071]\n",
            "--------------- 12 ---------------\n",
            "train: [1.137808084487915, 0.75]\n",
            "validate: [1.0572234392166138, 0.699999988079071]\n",
            "--------------- 13 ---------------\n",
            "train: [2.6612837314605713, 0.6499999761581421]\n",
            "validate: [1.1987334489822388, 0.550000011920929]\n",
            "--------------- 14 ---------------\n",
            "train: [1.1216716766357422, 0.699999988079071]\n",
            "validate: [1.1169142723083496, 0.6499999761581421]\n",
            "--------------- 15 ---------------\n",
            "train: [1.5519548654556274, 0.75]\n",
            "validate: [0.4762934148311615, 0.800000011920929]\n",
            "--------------- 16 ---------------\n",
            "train: [2.166315793991089, 0.699999988079071]\n",
            "validate: [1.7608306407928467, 0.6000000238418579]\n",
            "--------------- 17 ---------------\n",
            "train: [1.8183186054229736, 0.6000000238418579]\n",
            "validate: [1.3024532794952393, 0.6499999761581421]\n",
            "--------------- 18 ---------------\n",
            "train: [0.3182808756828308, 0.8999999761581421]\n",
            "validate: [0.8849955797195435, 0.800000011920929]\n",
            "--------------- 19 ---------------\n",
            "train: [1.301730751991272, 0.6499999761581421]\n",
            "validate: [0.453146755695343, 0.8999999761581421]\n",
            "--------------- 20 ---------------\n",
            "train: [0.8857337236404419, 0.8500000238418579]\n",
            "validate: [0.24097952246665955, 0.8999999761581421]\n",
            "--------------- 21 ---------------\n",
            "train: [1.3874980211257935, 0.800000011920929]\n",
            "validate: [1.0074745416641235, 0.75]\n",
            "--------------- 22 ---------------\n",
            "train: [1.1661852598190308, 0.800000011920929]\n",
            "validate: [2.850761651992798, 0.6499999761581421]\n",
            "--------------- 23 ---------------\n",
            "train: [0.538878321647644, 0.8500000238418579]\n",
            "validate: [0.3662182688713074, 0.8500000238418579]\n",
            "--------------- 24 ---------------\n",
            "train: [0.41606587171554565, 0.8999999761581421]\n",
            "validate: [1.4334031343460083, 0.800000011920929]\n",
            "--------------- 25 ---------------\n",
            "train: [1.0140271186828613, 0.8500000238418579]\n",
            "validate: [0.6535094976425171, 0.75]\n",
            "--------------- 26 ---------------\n",
            "train: [0.8451799154281616, 0.75]\n",
            "validate: [0.5938684940338135, 0.8500000238418579]\n",
            "--------------- 27 ---------------\n",
            "train: [0.5615247488021851, 0.800000011920929]\n",
            "validate: [0.03605957701802254, 1.0]\n",
            "--------------- 28 ---------------\n",
            "train: [0.5131649971008301, 0.8500000238418579]\n",
            "validate: [0.7525061368942261, 0.8999999761581421]\n",
            "--------------- 29 ---------------\n",
            "train: [0.3377811312675476, 0.8999999761581421]\n",
            "validate: [0.46368592977523804, 0.8500000238418579]\n",
            "--------------- 30 ---------------\n",
            "train: [0.20004574954509735, 0.949999988079071]\n",
            "validate: [0.5874859690666199, 0.800000011920929]\n",
            "--------------- 31 ---------------\n",
            "train: [0.3725617527961731, 0.8999999761581421]\n",
            "validate: [0.19101065397262573, 0.949999988079071]\n",
            "--------------- 32 ---------------\n",
            "train: [0.40678220987319946, 0.8999999761581421]\n",
            "validate: [0.215910404920578, 0.949999988079071]\n",
            "--------------- 33 ---------------\n",
            "train: [0.6836533546447754, 0.8999999761581421]\n",
            "validate: [0.21219611167907715, 0.8999999761581421]\n",
            "--------------- 34 ---------------\n",
            "train: [0.42200225591659546, 0.8500000238418579]\n",
            "validate: [0.7710877656936646, 0.800000011920929]\n",
            "--------------- 35 ---------------\n",
            "train: [0.7395204901695251, 0.800000011920929]\n",
            "validate: [0.7479410171508789, 0.800000011920929]\n",
            "--------------- 36 ---------------\n",
            "train: [0.39682912826538086, 0.8500000238418579]\n",
            "validate: [0.37814152240753174, 0.8999999761581421]\n",
            "--------------- 37 ---------------\n",
            "train: [0.0870513767004013, 0.8999999761581421]\n",
            "validate: [0.610052227973938, 0.8999999761581421]\n",
            "--------------- 38 ---------------\n",
            "train: [0.05850011110305786, 0.949999988079071]\n",
            "validate: [0.32590439915657043, 0.8999999761581421]\n",
            "--------------- 39 ---------------\n",
            "train: [0.2145286351442337, 0.949999988079071]\n"
          ],
          "name": "stdout"
        }
      ]
    },
    {
      "cell_type": "code",
      "metadata": {
        "id": "-eQVrO045jbN"
      },
      "source": [
        "+"
      ],
      "execution_count": null,
      "outputs": []
    }
  ]
}