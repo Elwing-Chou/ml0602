{
  "nbformat": 4,
  "nbformat_minor": 0,
  "metadata": {
    "colab": {
      "name": "cifar10.ipynb",
      "provenance": [],
      "authorship_tag": "ABX9TyMszoXUi4VLcIbN3L3iPSs6",
      "include_colab_link": true
    },
    "kernelspec": {
      "name": "python3",
      "display_name": "Python 3"
    },
    "language_info": {
      "name": "python"
    },
    "accelerator": "GPU"
  },
  "cells": [
    {
      "cell_type": "markdown",
      "metadata": {
        "id": "view-in-github",
        "colab_type": "text"
      },
      "source": [
        "<a href=\"https://colab.research.google.com/github/Elwing-Chou/ml0602/blob/main/cifar10.ipynb\" target=\"_parent\"><img src=\"https://colab.research.google.com/assets/colab-badge.svg\" alt=\"Open In Colab\"/></a>"
      ]
    },
    {
      "cell_type": "code",
      "metadata": {
        "id": "x5G3Y-Y1_UBf"
      },
      "source": [
        "from tensorflow.keras.datasets.cifar10 import load_data\n",
        "(x_train, y_train), (x_test, y_test) = load_data()"
      ],
      "execution_count": 24,
      "outputs": []
    },
    {
      "cell_type": "code",
      "metadata": {
        "colab": {
          "base_uri": "https://localhost:8080/"
        },
        "id": "iuSMGxYM_mRY",
        "outputId": "a0dd3499-b9f2-4ff2-e906-2bfa4c8b972c"
      },
      "source": [
        "print(x_train.shape)\n",
        "print(y_train.shape)\n",
        "print(x_test.shape)\n",
        "print(y_test.shape)"
      ],
      "execution_count": 25,
      "outputs": [
        {
          "output_type": "stream",
          "text": [
            "(50000, 32, 32, 3)\n",
            "(50000, 1)\n",
            "(10000, 32, 32, 3)\n",
            "(10000, 1)\n"
          ],
          "name": "stdout"
        }
      ]
    },
    {
      "cell_type": "code",
      "metadata": {
        "id": "gY0FDpo9BULJ"
      },
      "source": [
        "names = [\n",
        "    \"airplane\",\t\t\t\t\t\t\t\t\t\t\n",
        "    \"automobile\",\t\t\t\t\t\t\t\t\t\t\n",
        "    \"bird\",\t\t\t\t\t\t\t\t\t\t\n",
        "    \"cat\",\t\t\t\t\t\t\t\t\t\t\n",
        "    \"deer\",\t\t\t\t\t\t\t\t\t\t\n",
        "    \"dog\",\t\t\t\t\t\t\t\t\t\t\n",
        "    \"frog\",\t\t\t\t\t\t\t\t\t\t\n",
        "    \"horse\",\t\t\t\t\t\t\t\t\t\t\n",
        "    \"ship\",\t\t\t\t\t\t\t\t\t\t\n",
        "    \"truck\"\n",
        "]"
      ],
      "execution_count": 26,
      "outputs": []
    },
    {
      "cell_type": "code",
      "metadata": {
        "colab": {
          "base_uri": "https://localhost:8080/",
          "height": 303
        },
        "id": "8-3QtJKI_1ZZ",
        "outputId": "86f80577-0502-465a-c4dc-fce63fc326be"
      },
      "source": [
        "# mnist: (60000, ) [5, 2, 1, 0]\n",
        "import matplotlib.pyplot as plt\n",
        "import random\n",
        "idx = random.randint(0, 49999)\n",
        "ans = y_train[idx][0]\n",
        "print(names[ans])\n",
        "plt.imshow(x_train[idx])"
      ],
      "execution_count": 27,
      "outputs": [
        {
          "output_type": "stream",
          "text": [
            "cat\n"
          ],
          "name": "stdout"
        },
        {
          "output_type": "execute_result",
          "data": {
            "text/plain": [
              "<matplotlib.image.AxesImage at 0x7f6da003f810>"
            ]
          },
          "metadata": {
            "tags": []
          },
          "execution_count": 27
        },
        {
          "output_type": "display_data",
          "data": {
            "image/png": "[encoded data removed]",
            "text/plain": [
              "<Figure size 432x288 with 1 Axes>"
            ]
          },
          "metadata": {
            "tags": [],
            "needs_background": "light"
          }
        }
      ]
    },
    {
      "cell_type": "code",
      "metadata": {
        "colab": {
          "base_uri": "https://localhost:8080/"
        },
        "id": "BmLMORp-cBQe",
        "outputId": "fb9076e8-30c8-4db2-f6c4-330bdfab3b0c"
      },
      "source": [
        "from tensorflow.keras.models import Sequential\n",
        "from tensorflow.keras.layers import Conv2D, MaxPooling2D\n",
        "from tensorflow.keras.layers import Dense, Flatten, Dropout\n",
        "layers = [\n",
        "    # 3 * 3 * 3(一個) * 64 + 64(bias) = 1792\n",
        "    Conv2D(64, 3, activation=\"relu\", padding=\"same\", input_shape=(32, 32, 3)),\n",
        "    MaxPooling2D(),\n",
        "    # 3 * 3 * 64(一個) * 128 + 128(bias) = 73856\n",
        "    Conv2D(128, 3, activation=\"relu\", padding=\"same\"),\n",
        "    MaxPooling2D(),\n",
        "    Conv2D(256, 3, activation=\"relu\", padding=\"same\"),\n",
        "    MaxPooling2D(),\n",
        "    Conv2D(512, 3, activation=\"relu\", padding=\"same\"),\n",
        "    MaxPooling2D(),\n",
        "    Flatten(),\n",
        "    Dense(64, activation=\"relu\"),\n",
        "    # 128 * 10 + 10(bias) = 1290\n",
        "    Dropout(0.25),\n",
        "    Dense(10, activation=\"softmax\")\n",
        "]\n",
        "model = Sequential(layers)\n",
        "model.summary()"
      ],
      "execution_count": 28,
      "outputs": [
        {
          "output_type": "stream",
          "text": [
            "Model: \"sequential_5\"\n",
            "_________________________________________________________________\n",
            "Layer (type)                 Output Shape              Param #   \n",
            "=================================================================\n",
            "conv2d_19 (Conv2D)           (None, 32, 32, 64)        1792      \n",
            "_________________________________________________________________\n",
            "max_pooling2d_19 (MaxPooling (None, 16, 16, 64)        0         \n",
            "_________________________________________________________________\n",
            "conv2d_20 (Conv2D)           (None, 16, 16, 128)       73856     \n",
            "_________________________________________________________________\n",
            "max_pooling2d_20 (MaxPooling (None, 8, 8, 128)         0         \n",
            "_________________________________________________________________\n",
            "conv2d_21 (Conv2D)           (None, 8, 8, 256)         295168    \n",
            "_________________________________________________________________\n",
            "max_pooling2d_21 (MaxPooling (None, 4, 4, 256)         0         \n",
            "_________________________________________________________________\n",
            "conv2d_22 (Conv2D)           (None, 4, 4, 512)         1180160   \n",
            "_________________________________________________________________\n",
            "max_pooling2d_22 (MaxPooling (None, 2, 2, 512)         0         \n",
            "_________________________________________________________________\n",
            "flatten_6 (Flatten)          (None, 2048)              0         \n",
            "_________________________________________________________________\n",
            "dense_6 (Dense)              (None, 64)                131136    \n",
            "_________________________________________________________________\n",
            "dropout_2 (Dropout)          (None, 64)                0         \n",
            "_________________________________________________________________\n",
            "dense_7 (Dense)              (None, 10)                650       \n",
            "=================================================================\n",
            "Total params: 1,682,762\n",
            "Trainable params: 1,682,762\n",
            "Non-trainable params: 0\n",
            "_________________________________________________________________\n"
          ],
          "name": "stdout"
        }
      ]
    },
    {
      "cell_type": "code",
      "metadata": {
        "id": "g7Ay5QbHp0nk"
      },
      "source": [
        "from tensorflow.keras.losses import SparseCategoricalCrossentropy\n",
        "from tensorflow.keras.optimizers import Adam\n",
        "model.compile(loss=SparseCategoricalCrossentropy(),\n",
        "              optimizer=Adam(),\n",
        "              metrics=[\"accuracy\"])"
      ],
      "execution_count": 29,
      "outputs": []
    },
    {
      "cell_type": "code",
      "metadata": {
        "id": "0SbFpgr0plLr"
      },
      "source": [
        "x_train_norm = x_train / 255.0\n",
        "x_test_norm = x_test / 255.0"
      ],
      "execution_count": 30,
      "outputs": []
    },
    {
      "cell_type": "code",
      "metadata": {
        "colab": {
          "base_uri": "https://localhost:8080/"
        },
        "id": "6U7zO0DcrEwR",
        "outputId": "bca8d5aa-a4e3-4fb3-cf75-a9ff4f1db135"
      },
      "source": [
        "from tensorflow.keras.callbacks import EarlyStopping, ModelCheckpoint\n",
        "# validation_split: 切出一些驗證資料來做驗證(0.1: 54000筆資料訓練)\n",
        "# epochs: 看幾輪(10輪: 54000 * 10)\n",
        "# batch_size: 看了多少筆再做一次梯度調整(看圖片大小, 圖片小(20*20):200, 圖片大(200*200):20)\n",
        "# 200batch, 10epoch: 54000 * 10 / 200 -> 2700(梯度調整)\n",
        "# verbose: 0(無聲) 1(最詳細) 2(沒有進度條)\n",
        "callbacks = [\n",
        "    EarlyStopping(patience=5, restore_best_weights=True),\n",
        "    ModelCheckpoint(\"cnn.h5\", save_best_only=True)\n",
        "]\n",
        "# h5: https://www.hdfgroup.org/downloads/hdfview/\n",
        "model.fit(x_train_norm,\n",
        "          y_train,\n",
        "          validation_split=0.1,\n",
        "          epochs=100,\n",
        "          batch_size=200,\n",
        "          verbose=2,\n",
        "          callbacks=callbacks)"
      ],
      "execution_count": 31,
      "outputs": [
        {
          "output_type": "stream",
          "text": [
            "Epoch 1/100\n",
            "225/225 - 5s - loss: 1.8217 - accuracy: 0.3225 - val_loss: 1.3724 - val_accuracy: 0.5108\n",
            "Epoch 2/100\n",
            "225/225 - 4s - loss: 1.3708 - accuracy: 0.5024 - val_loss: 1.1110 - val_accuracy: 0.6088\n",
            "Epoch 3/100\n",
            "225/225 - 4s - loss: 1.1282 - accuracy: 0.5998 - val_loss: 0.9670 - val_accuracy: 0.6564\n",
            "Epoch 4/100\n",
            "225/225 - 4s - loss: 0.9570 - accuracy: 0.6680 - val_loss: 0.8393 - val_accuracy: 0.7178\n",
            "Epoch 5/100\n",
            "225/225 - 4s - loss: 0.8177 - accuracy: 0.7180 - val_loss: 0.7587 - val_accuracy: 0.7354\n",
            "Epoch 6/100\n",
            "225/225 - 4s - loss: 0.6936 - accuracy: 0.7599 - val_loss: 0.6982 - val_accuracy: 0.7572\n",
            "Epoch 7/100\n",
            "225/225 - 4s - loss: 0.5957 - accuracy: 0.7960 - val_loss: 0.7040 - val_accuracy: 0.7602\n",
            "Epoch 8/100\n",
            "225/225 - 4s - loss: 0.5053 - accuracy: 0.8267 - val_loss: 0.7021 - val_accuracy: 0.7654\n",
            "Epoch 9/100\n",
            "225/225 - 4s - loss: 0.4318 - accuracy: 0.8524 - val_loss: 0.7124 - val_accuracy: 0.7712\n",
            "Epoch 10/100\n",
            "225/225 - 4s - loss: 0.3454 - accuracy: 0.8810 - val_loss: 0.6926 - val_accuracy: 0.7876\n",
            "Epoch 11/100\n",
            "225/225 - 4s - loss: 0.2842 - accuracy: 0.9033 - val_loss: 0.7674 - val_accuracy: 0.7746\n",
            "Epoch 12/100\n",
            "225/225 - 4s - loss: 0.2296 - accuracy: 0.9206 - val_loss: 0.7673 - val_accuracy: 0.7876\n",
            "Epoch 13/100\n",
            "225/225 - 4s - loss: 0.1865 - accuracy: 0.9339 - val_loss: 0.8074 - val_accuracy: 0.7880\n",
            "Epoch 14/100\n",
            "225/225 - 4s - loss: 0.1669 - accuracy: 0.9420 - val_loss: 0.9027 - val_accuracy: 0.7816\n",
            "Epoch 15/100\n",
            "225/225 - 4s - loss: 0.1331 - accuracy: 0.9557 - val_loss: 0.9550 - val_accuracy: 0.7910\n"
          ],
          "name": "stdout"
        },
        {
          "output_type": "execute_result",
          "data": {
            "text/plain": [
              "<tensorflow.python.keras.callbacks.History at 0x7f6d64137d50>"
            ]
          },
          "metadata": {
            "tags": []
          },
          "execution_count": 31
        }
      ]
    },
    {
      "cell_type": "code",
      "metadata": {
        "colab": {
          "base_uri": "https://localhost:8080/"
        },
        "id": "m8NXRx1mrV8O",
        "outputId": "a843ef84-0846-46f6-e3fd-bc99de93aa52"
      },
      "source": [
        "model.evaluate(x_test_norm, y_test)"
      ],
      "execution_count": 32,
      "outputs": [
        {
          "output_type": "stream",
          "text": [
            "313/313 [==============================] - 1s 4ms/step - loss: 0.7674 - accuracy: 0.7670\n"
          ],
          "name": "stdout"
        },
        {
          "output_type": "execute_result",
          "data": {
            "text/plain": [
              "[0.7674257755279541, 0.7670000195503235]"
            ]
          },
          "metadata": {
            "tags": []
          },
          "execution_count": 32
        }
      ]
    }
  ]
}