{
  "nbformat": 4,
  "nbformat_minor": 0,
  "metadata": {
    "colab": {
      "name": "sentiment.ipynb",
      "provenance": [],
      "collapsed_sections": [],
      "authorship_tag": "ABX9TyMXkoaZKfhAf6kkbIGKha6q",
      "include_colab_link": true
    },
    "kernelspec": {
      "name": "python3",
      "display_name": "Python 3"
    },
    "language_info": {
      "name": "python"
    },
    "accelerator": "GPU"
  },
  "cells": [
    {
      "cell_type": "markdown",
      "metadata": {
        "id": "view-in-github",
        "colab_type": "text"
      },
      "source": [
        "<a href=\"https://colab.research.google.com/github/Elwing-Chou/ml0602/blob/main/sentiment.ipynb\" target=\"_parent\"><img src=\"https://colab.research.google.com/assets/colab-badge.svg\" alt=\"Open In Colab\"/></a>"
      ]
    },
    {
      "cell_type": "code",
      "metadata": {
        "id": "TauCJLV61D8E"
      },
      "source": [
        "import tensorflow as tf\n",
        "\n",
        "dataset = tf.keras.utils.get_file(\n",
        "    fname=\"aclImdb.tar.gz\", \n",
        "    origin=\"http://ai.stanford.edu/~amaas/data/sentiment/aclImdb_v1.tar.gz\", \n",
        "    extract=True,\n",
        ")"
      ],
      "execution_count": null,
      "outputs": []
    },
    {
      "cell_type": "code",
      "metadata": {
        "colab": {
          "base_uri": "https://localhost:8080/"
        },
        "id": "nHGhzSYf2XSE",
        "outputId": "de8c28ff-93d0-4e63-a194-b80416ed3a1e"
      },
      "source": [
        "import os\n",
        "import glob\n",
        "dn = os.path.split(dataset)[0]\n",
        "fn = os.path.join(dn, \"aclImdb\", \"train\", \"pos\", \"*\")\n",
        "print(fn)\n",
        "fns = glob.glob(fn)\n",
        "with open(fns[0], \"r\", encoding=\"utf-8\") as f:\n",
        "    print(f.read())"
      ],
      "execution_count": 14,
      "outputs": [
        {
          "output_type": "stream",
          "text": [
            "/root/.keras/datasets/aclImdb/train/pos/*\n",
            "I was told it was one of those \"either you love it or you hate it\" movies. Well, I loved it. Obvious hippie-era, dated and easy symbolism and all. So, I probably have no taste at all when it comes to Antonioni, but this and La Notte (made exactly a decade earlier) are my favourites among his movies so far. Made two years before I was born, Zabriskie Point was supposed to have been Michelangelo's great American epic. But apparently, it turned out to be a flop. I really can't see why. Before watching it I'd read that it was rather boring, so I braced myself for a very slow movie - though I love me a slow movie. For my taste, Zabriskie didn't have a tedious minute in it. While watching it, I made a mental note of how European it was on the director's part to make such frequent use of advertisement billboards in almost every urban scene, enormous billboards dwarfing any human form in sight. This recurrent visual element is obviously there to underline the way that consumerism crushes the individual in American society. But then I watched L'Eclisse straight afterwards, which is set in Rome in the early 60s, and noticed that Antonioni often included billboards in it as well. After all, the masterful use of landscapes, architecture and inanimate objects in each frame with or without human beings is an Antonioni trademark  this is precisely the way that he evokes his characters' psychological states, with more or less understated power and great visual impact. He is virtually unsurpassed in this skill.<br /><br />Zabriskie Point starred two very appealing leads that should have become big stars of the 70s, but never did. Mark Frechette, whom I'd already seen in Francesco Rosi's fine WWI-set movie Uomini Contro, had a very tragic life and died aged just 27. According to his biography page, he donated his $60,000 earnings from Zabriskie to a commune. Mark's co-star Daria Halprin, apparently also Dennis Hopper's wife later on, has the stunning, natural beauty and appeal of a young Ornella Muti  one of those luminous beauties that don't need a shred of make-up to turn heads. Like Frechette, she has only graced a couple of obscure movies and has never become a star, but at least she didn't die tragically. Most notably, Zabriskie Point contains one of the most original sex scenes ever filmed - one that brings home a sense of youthful playfulness like few I've seen - as well as a powerfully cathartic ending. It may be the most banal sequence ever filmed as far as its symbolism goes, but I can't see how anyone can deny its beauty and wonderful sense of emotional release. Never has an explosion looked so good, and so poetic. It seems to be an explosion that restores order rather than bringing chaos.\n"
          ],
          "name": "stdout"
        }
      ]
    },
    {
      "cell_type": "code",
      "metadata": {
        "id": "lLl72pTZ4Whw"
      },
      "source": [
        "import pandas as pd\n",
        "def get_data(base=\"train\"):\n",
        "    contents, target = [], []\n",
        "    dn = os.path.split(dataset)[0]\n",
        "    fn = os.path.join(dn, \"aclImdb\", base, \"pos\", \"*.txt\")\n",
        "    fns = glob.glob(fn)\n",
        "    for p in fns:\n",
        "        with open(p, \"r\", encoding=\"utf-8\") as f:\n",
        "            contents.append(f.read())\n",
        "            target.append(1)\n",
        "    fn = os.path.join(dn, \"aclImdb\", base, \"neg\", \"*.txt\")\n",
        "    fns = glob.glob(fn)\n",
        "    for p in fns:\n",
        "        with open(p, \"r\", encoding=\"utf-8\") as f:\n",
        "            contents.append(f.read())\n",
        "            target.append(0)\n",
        "    df = pd.DataFrame({\n",
        "        \"contents\":contents,\n",
        "        \"ans\":target\n",
        "    })\n",
        "    return df\n",
        "train_df = get_data(base=\"train\")\n",
        "test_df = get_data(base=\"test\")"
      ],
      "execution_count": 15,
      "outputs": []
    },
    {
      "cell_type": "code",
      "metadata": {
        "colab": {
          "base_uri": "https://localhost:8080/",
          "height": 423
        },
        "id": "bfAdBiAV53Qv",
        "outputId": "958562d7-217f-4c6f-c944-cf6e7e742fd8"
      },
      "source": [
        "test_df"
      ],
      "execution_count": 17,
      "outputs": [
        {
          "output_type": "execute_result",
          "data": {
            "text/html": [
              "<div>\n",
              "<style scoped>\n",
              "    .dataframe tbody tr th:only-of-type {\n",
              "        vertical-align: middle;\n",
              "    }\n",
              "\n",
              "    .dataframe tbody tr th {\n",
              "        vertical-align: top;\n",
              "    }\n",
              "\n",
              "    .dataframe thead th {\n",
              "        text-align: right;\n",
              "    }\n",
              "</style>\n",
              "<table border=\"1\" class=\"dataframe\">\n",
              "  <thead>\n",
              "    <tr style=\"text-align: right;\">\n",
              "      <th></th>\n",
              "      <th>contents</th>\n",
              "      <th>ans</th>\n",
              "    </tr>\n",
              "  </thead>\n",
              "  <tbody>\n",
              "    <tr>\n",
              "      <th>0</th>\n",
              "      <td>I was fortunate enough to see The Last Stop he...</td>\n",
              "      <td>1</td>\n",
              "    </tr>\n",
              "    <tr>\n",
              "      <th>1</th>\n",
              "      <td>I really appreciate what Jung-won had done bef...</td>\n",
              "      <td>1</td>\n",
              "    </tr>\n",
              "    <tr>\n",
              "      <th>2</th>\n",
              "      <td>Very literate, intelligent drama about a group...</td>\n",
              "      <td>1</td>\n",
              "    </tr>\n",
              "    <tr>\n",
              "      <th>3</th>\n",
              "      <td>Even though I saw this film when I was very yo...</td>\n",
              "      <td>1</td>\n",
              "    </tr>\n",
              "    <tr>\n",
              "      <th>4</th>\n",
              "      <td>\"Nuovomondo\" was a great experience. Many film...</td>\n",
              "      <td>1</td>\n",
              "    </tr>\n",
              "    <tr>\n",
              "      <th>...</th>\n",
              "      <td>...</td>\n",
              "      <td>...</td>\n",
              "    </tr>\n",
              "    <tr>\n",
              "      <th>24995</th>\n",
              "      <td>I saw this on a screener DVD a couple months b...</td>\n",
              "      <td>0</td>\n",
              "    </tr>\n",
              "    <tr>\n",
              "      <th>24996</th>\n",
              "      <td>This movie has got to be the worse movie i hav...</td>\n",
              "      <td>0</td>\n",
              "    </tr>\n",
              "    <tr>\n",
              "      <th>24997</th>\n",
              "      <td>This is a piece of celluloid CRAP. You can tel...</td>\n",
              "      <td>0</td>\n",
              "    </tr>\n",
              "    <tr>\n",
              "      <th>24998</th>\n",
              "      <td>I totally agree. This is \"Pitch Black undergro...</td>\n",
              "      <td>0</td>\n",
              "    </tr>\n",
              "    <tr>\n",
              "      <th>24999</th>\n",
              "      <td>The most obvious flaw...horrible, horrible scr...</td>\n",
              "      <td>0</td>\n",
              "    </tr>\n",
              "  </tbody>\n",
              "</table>\n",
              "<p>25000 rows × 2 columns</p>\n",
              "</div>"
            ],
            "text/plain": [
              "                                                contents  ans\n",
              "0      I was fortunate enough to see The Last Stop he...    1\n",
              "1      I really appreciate what Jung-won had done bef...    1\n",
              "2      Very literate, intelligent drama about a group...    1\n",
              "3      Even though I saw this film when I was very yo...    1\n",
              "4      \"Nuovomondo\" was a great experience. Many film...    1\n",
              "...                                                  ...  ...\n",
              "24995  I saw this on a screener DVD a couple months b...    0\n",
              "24996  This movie has got to be the worse movie i hav...    0\n",
              "24997  This is a piece of celluloid CRAP. You can tel...    0\n",
              "24998  I totally agree. This is \"Pitch Black undergro...    0\n",
              "24999  The most obvious flaw...horrible, horrible scr...    0\n",
              "\n",
              "[25000 rows x 2 columns]"
            ]
          },
          "metadata": {
            "tags": []
          },
          "execution_count": 17
        }
      ]
    }
  ]
}