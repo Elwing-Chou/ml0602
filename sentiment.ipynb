{
  "nbformat": 4,
  "nbformat_minor": 0,
  "metadata": {
    "colab": {
      "name": "sentiment.ipynb",
      "provenance": [],
      "collapsed_sections": [],
      "authorship_tag": "ABX9TyPBEBh8u/jYQgrqJ+dwfNUt",
      "include_colab_link": true
    },
    "kernelspec": {
      "name": "python3",
      "display_name": "Python 3"
    },
    "language_info": {
      "name": "python"
    },
    "accelerator": "GPU"
  },
  "cells": [
    {
      "cell_type": "markdown",
      "metadata": {
        "id": "view-in-github",
        "colab_type": "text"
      },
      "source": [
        "<a href=\"https://colab.research.google.com/github/Elwing-Chou/ml0602/blob/main/sentiment.ipynb\" target=\"_parent\"><img src=\"https://colab.research.google.com/assets/colab-badge.svg\" alt=\"Open In Colab\"/></a>"
      ]
    },
    {
      "cell_type": "code",
      "metadata": {
        "id": "TauCJLV61D8E"
      },
      "source": [
        "import tensorflow as tf\n",
        "\n",
        "dataset = tf.keras.utils.get_file(\n",
        "    fname=\"aclImdb.tar.gz\", \n",
        "    origin=\"http://ai.stanford.edu/~amaas/data/sentiment/aclImdb_v1.tar.gz\", \n",
        "    extract=True,\n",
        ")"
      ],
      "execution_count": null,
      "outputs": []
    },
    {
      "cell_type": "code",
      "metadata": {
        "id": "nHGhzSYf2XSE"
      },
      "source": [
        "import os\n",
        "import glob\n",
        "dn = os.path.split(dataset)[0]\n",
        "fn = os.path.join(dn, \"aclImdb\", \"train\", \"pos\", \"*\")\n",
        "print(fn)\n",
        "fns = glob.glob(fn)\n",
        "with open(fns[0], \"r\", encoding=\"utf-8\") as f:\n",
        "    print(f.read())"
      ],
      "execution_count": null,
      "outputs": []
    },
    {
      "cell_type": "code",
      "metadata": {
        "id": "lLl72pTZ4Whw"
      },
      "source": [
        "import pandas as pd\n",
        "def get_data(base=\"train\"):\n",
        "    contents, target = [], []\n",
        "    dn = os.path.split(dataset)[0]\n",
        "    fn = os.path.join(dn, \"aclImdb\", base, \"pos\", \"*.txt\")\n",
        "    fns = glob.glob(fn)\n",
        "    for p in fns:\n",
        "        with open(p, \"r\", encoding=\"utf-8\") as f:\n",
        "            contents.append(f.read())\n",
        "            target.append(1)\n",
        "    fn = os.path.join(dn, \"aclImdb\", base, \"neg\", \"*.txt\")\n",
        "    fns = glob.glob(fn)\n",
        "    for p in fns:\n",
        "        with open(p, \"r\", encoding=\"utf-8\") as f:\n",
        "            contents.append(f.read())\n",
        "            target.append(0)\n",
        "    df = pd.DataFrame({\n",
        "        \"contents\":contents,\n",
        "        \"ans\":target\n",
        "    })\n",
        "    return df\n",
        "train_df = get_data(base=\"train\")\n",
        "test_df = get_data(base=\"test\")"
      ],
      "execution_count": null,
      "outputs": []
    },
    {
      "cell_type": "code",
      "metadata": {
        "id": "bfAdBiAV53Qv"
      },
      "source": [
        "# Step1. Tokenize\n",
        "# 我們絕對不會使用0, 因為0是拿來做padding\n",
        "from tensorflow.keras.preprocessing.text import Tokenizer\n",
        "tok = Tokenizer(num_words=3000)\n",
        "tok.fit_on_texts(train_df[\"contents\"])"
      ],
      "execution_count": null,
      "outputs": []
    },
    {
      "cell_type": "code",
      "metadata": {
        "id": "7FZ46X8NAnrN"
      },
      "source": [
        "# Step2. Sequenize\n",
        "# tok.word_index\n",
        "# tok.index_word[3000]\n",
        "# 文章(token) -> sequence\n",
        "x_train_seq = tok.texts_to_sequences(train_df[\"contents\"])\n",
        "x_test_seq = tok.texts_to_sequences(test_df[\"contents\"])\n",
        "pd.DataFrame(x_train_seq)"
      ],
      "execution_count": null,
      "outputs": []
    },
    {
      "cell_type": "code",
      "metadata": {
        "id": "-8WIjSHbDGWt"
      },
      "source": [
        "SEQ_LEN = 512"
      ],
      "execution_count": null,
      "outputs": []
    },
    {
      "cell_type": "code",
      "metadata": {
        "id": "BIYQbCMjCb1V"
      },
      "source": [
        "# Step3. Padding\n",
        "from tensorflow.keras.preprocessing.sequence import pad_sequences\n",
        "x_train_pad = pad_sequences(x_train_seq, maxlen=SEQ_LEN)\n",
        "x_test_pad = pad_sequences(x_test_seq, maxlen=SEQ_LEN)\n",
        "pd.DataFrame(x_train_pad)"
      ],
      "execution_count": null,
      "outputs": []
    },
    {
      "cell_type": "code",
      "metadata": {
        "id": "vAXlifz4HWCg"
      },
      "source": [
        "from tensorflow.keras.models import Sequential\n",
        "from tensorflow.keras.layers import Embedding, GlobalAveragePooling1D, Dense\n",
        "layers = [\n",
        "    # 每個詞彙都有128個係數, 3001 * 128 = 384128\n",
        "    # !!!tokenize有多少個可調(上面要記得調): 3000 -> 4000\n",
        "    # !!!詞向量維度可調(簡單小一點, 困難大一點): 128 -> 256/64\n",
        "    # !!!input_length(上面要記得調): 512 -> 256\n",
        "    Embedding(3001, 128, mask_zero=True, input_length=SEQ_LEN),\n",
        "    GlobalAveragePooling1D(),\n",
        "    Dense(2, activation=\"softmax\")\n",
        "]\n",
        "model = Sequential(layers)\n",
        "model.summary()"
      ],
      "execution_count": null,
      "outputs": []
    },
    {
      "cell_type": "code",
      "metadata": {
        "id": "cy1zQHheMk_R"
      },
      "source": [
        "from tensorflow.keras.losses import SparseCategoricalCrossentropy\n",
        "from tensorflow.keras.optimizers import Adam\n",
        "model.compile(loss=SparseCategoricalCrossentropy(),\n",
        "              optimizer=Adam(),\n",
        "              metrics=[\"accuracy\"])"
      ],
      "execution_count": null,
      "outputs": []
    },
    {
      "cell_type": "code",
      "metadata": {
        "id": "zSYbMvTfM1th"
      },
      "source": [
        "import numpy as np\n",
        "y_train = np.array(train_df[\"ans\"])\n",
        "y_test = np.array(test_df[\"ans\"])"
      ],
      "execution_count": null,
      "outputs": []
    },
    {
      "cell_type": "code",
      "metadata": {
        "id": "MJmOyyhXMuNS"
      },
      "source": [
        "from tensorflow.keras.callbacks import EarlyStopping, ModelCheckpoint\n",
        "# validation_split: 切出一些驗證資料來做驗證(0.1: 54000筆資料訓練)\n",
        "# epochs: 看幾輪(10輪: 54000 * 10)\n",
        "# batch_size: 看了多少筆再做一次梯度調整(看圖片大小, 圖片小(20*20):200, 圖片大(200*200):20)\n",
        "# 200batch, 10epoch: 54000 * 10 / 200 -> 2700(梯度調整)\n",
        "# verbose: 0(無聲) 1(最詳細) 2(沒有進度條)\n",
        "callbacks = [\n",
        "    EarlyStopping(patience=5, restore_best_weights=True),\n",
        "    ModelCheckpoint(\"model.h5\", save_best_only=True)\n",
        "]\n",
        "# h5: https://www.hdfgroup.org/downloads/hdfview/\n",
        "model.fit(x_train_pad,\n",
        "          y_train,\n",
        "          validation_split=0.1,\n",
        "          epochs=100,\n",
        "          batch_size=200,\n",
        "          verbose=2,\n",
        "          callbacks=callbacks)"
      ],
      "execution_count": null,
      "outputs": []
    },
    {
      "cell_type": "code",
      "metadata": {
        "colab": {
          "base_uri": "https://localhost:8080/",
          "height": 172
        },
        "id": "v7P3OrS7N5Fl",
        "outputId": "0c51976c-a1f1-4de5-e8b6-a8444d746cfc"
      },
      "source": [
        "model.evaluate(x_test_pad, y_test)"
      ],
      "execution_count": 1,
      "outputs": [
        {
          "output_type": "error",
          "ename": "NameError",
          "evalue": "ignored",
          "traceback": [
            "\u001b[0;31m---------------------------------------------------------------------------\u001b[0m",
            "\u001b[0;31mNameError\u001b[0m                                 Traceback (most recent call last)",
            "\u001b[0;32m<ipython-input-1-09340dbc8faa>\u001b[0m in \u001b[0;36m<module>\u001b[0;34m()\u001b[0m\n\u001b[0;32m----> 1\u001b[0;31m \u001b[0mmodel\u001b[0m\u001b[0;34m.\u001b[0m\u001b[0mevaluate\u001b[0m\u001b[0;34m(\u001b[0m\u001b[0mx_test_pad\u001b[0m\u001b[0;34m,\u001b[0m \u001b[0my_test\u001b[0m\u001b[0;34m)\u001b[0m\u001b[0;34m\u001b[0m\u001b[0;34m\u001b[0m\u001b[0m\n\u001b[0m",
            "\u001b[0;31mNameError\u001b[0m: name 'model' is not defined"
          ]
        }
      ]
    }
  ]
}