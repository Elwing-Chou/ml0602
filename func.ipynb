{
  "nbformat": 4,
  "nbformat_minor": 0,
  "metadata": {
    "colab": {
      "name": "func.ipynb",
      "provenance": [],
      "authorship_tag": "ABX9TyMBfTGwShqFI6grA5ycc9Fl",
      "include_colab_link": true
    },
    "kernelspec": {
      "name": "python3",
      "display_name": "Python 3"
    },
    "language_info": {
      "name": "python"
    }
  },
  "cells": [
    {
      "cell_type": "markdown",
      "metadata": {
        "id": "view-in-github",
        "colab_type": "text"
      },
      "source": [
        "<a href=\"https://colab.research.google.com/github/Elwing-Chou/ml0602/blob/main/func.ipynb\" target=\"_parent\"><img src=\"https://colab.research.google.com/assets/colab-badge.svg\" alt=\"Open In Colab\"/></a>"
      ]
    },
    {
      "cell_type": "code",
      "metadata": {
        "colab": {
          "base_uri": "https://localhost:8080/"
        },
        "id": "xe744oCt3wuQ",
        "outputId": "6c2ec77e-0df7-4fc4-ae2c-b3c8a45af430"
      },
      "source": [
        "int(4.5)\n",
        "# python: 所有東西皆為物件 -> 所有東西都有資料型態\n",
        "# 函式: int -> 步驟資料(SOP) (4.5): 執行並且帶入參數\n",
        "#      dic -> 字典資料      [key]: 操作\n",
        "a = int\n",
        "a(5.5)\n",
        "def test():\n",
        "    return int\n",
        "test()(7.5)"
      ],
      "execution_count": 4,
      "outputs": [
        {
          "output_type": "execute_result",
          "data": {
            "text/plain": [
              "7"
            ]
          },
          "metadata": {
            "tags": []
          },
          "execution_count": 4
        }
      ]
    },
    {
      "cell_type": "code",
      "metadata": {
        "colab": {
          "base_uri": "https://localhost:8080/"
        },
        "id": "qSlkE5uV6OTk",
        "outputId": "e085d91b-8d91-43fa-e089-1b3b81c1a98d"
      },
      "source": [
        "class Person:\n",
        "    def __init__(self, h, w):\n",
        "        self.h = h\n",
        "        self.w = w\n",
        "b = Person\n",
        "p1 = b(175, 75)\n",
        "p1.h"
      ],
      "execution_count": 5,
      "outputs": [
        {
          "output_type": "execute_result",
          "data": {
            "text/plain": [
              "175"
            ]
          },
          "metadata": {
            "tags": []
          },
          "execution_count": 5
        }
      ]
    },
    {
      "cell_type": "code",
      "metadata": {
        "colab": {
          "base_uri": "https://localhost:8080/"
        },
        "id": "VXJ80j3F6nkO",
        "outputId": "a24fb034-5d37-49e8-ac63-5a9a840a14e7"
      },
      "source": [
        "import random\n",
        "print(type(random.randint))\n",
        "print(type(Person))\n",
        "print(type(p1))\n",
        "print(type(None))"
      ],
      "execution_count": 11,
      "outputs": [
        {
          "output_type": "stream",
          "text": [
            "<class 'method'>\n",
            "<class 'type'>\n",
            "<class '__main__.Person'>\n",
            "<class 'NoneType'>\n"
          ],
          "name": "stdout"
        }
      ]
    }
  ]
}