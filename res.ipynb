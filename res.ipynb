{
  "nbformat": 4,
  "nbformat_minor": 0,
  "metadata": {
    "colab": {
      "name": "res.ipynb",
      "provenance": [],
      "collapsed_sections": [],
      "authorship_tag": "ABX9TyP2ktaGTf0fAx1URO8YWMj9",
      "include_colab_link": true
    },
    "kernelspec": {
      "name": "python3",
      "display_name": "Python 3"
    },
    "language_info": {
      "name": "python"
    }
  },
  "cells": [
    {
      "cell_type": "markdown",
      "metadata": {
        "id": "view-in-github",
        "colab_type": "text"
      },
      "source": [
        "<a href=\"https://colab.research.google.com/github/Elwing-Chou/ml0602/blob/main/res.ipynb\" target=\"_parent\"><img src=\"https://colab.research.google.com/assets/colab-badge.svg\" alt=\"Open In Colab\"/></a>"
      ]
    },
    {
      "cell_type": "code",
      "metadata": {
        "id": "tSpTcRuBwaWE"
      },
      "source": [
        "from tensorflow.keras.applications.resnet_v2 import ResNet101V2\n",
        "from tensorflow.keras.utils import plot_model\n",
        "model = ResNet101V2(include_top=False, input_shape=(224, 224, 3))\n",
        "plot_model(model, show_shapes=True, to_file=\"res.png\")"
      ],
      "execution_count": null,
      "outputs": []
    },
    {
      "cell_type": "code",
      "metadata": {
        "colab": {
          "base_uri": "https://localhost:8080/"
        },
        "id": "Eo5_kfCPyU_e",
        "outputId": "d6db4a29-14e4-4e58-d45e-e63609695611"
      },
      "source": [
        "w = model.get_layer(\"conv3_block2_1_conv\").get_weights()[0]\n",
        "print(w.shape)"
      ],
      "execution_count": 6,
      "outputs": [
        {
          "output_type": "stream",
          "text": [
            "(1, 1, 512, 128)\n"
          ],
          "name": "stdout"
        }
      ]
    },
    {
      "cell_type": "code",
      "metadata": {
        "colab": {
          "base_uri": "https://localhost:8080/"
        },
        "id": "ynsAa8Xny_Jd",
        "outputId": "8abc50ee-950b-4fc8-ce63-97bc61ba594c"
      },
      "source": [
        "w = model.get_layer(\"conv3_block2_2_conv\").get_weights()[0]\n",
        "print(w.shape)"
      ],
      "execution_count": 7,
      "outputs": [
        {
          "output_type": "stream",
          "text": [
            "(3, 3, 128, 128)\n"
          ],
          "name": "stdout"
        }
      ]
    },
    {
      "cell_type": "code",
      "metadata": {
        "colab": {
          "base_uri": "https://localhost:8080/"
        },
        "id": "ZTXSQ4X7zCX-",
        "outputId": "8b544e68-bef0-4015-9c3b-33d12e17f795"
      },
      "source": [
        "w = model.get_layer(\"conv3_block2_3_conv\").get_weights()[0]\n",
        "print(w.shape)"
      ],
      "execution_count": 8,
      "outputs": [
        {
          "output_type": "stream",
          "text": [
            "(1, 1, 128, 512)\n"
          ],
          "name": "stdout"
        }
      ]
    },
    {
      "cell_type": "code",
      "metadata": {
        "id": "QvcWUTqD1WT3"
      },
      "source": [
        "def test():\n",
        "    return int\n",
        "test()(4.5)"
      ],
      "execution_count": null,
      "outputs": []
    },
    {
      "cell_type": "code",
      "metadata": {
        "colab": {
          "base_uri": "https://localhost:8080/"
        },
        "id": "MS0RfuqO0OXv",
        "outputId": "799a71b0-88f1-426b-d884-3f8a0e42be3b"
      },
      "source": [
        "from tensorflow.keras.models import Model\n",
        "from tensorflow.keras.layers import Input, Conv2D, Add\n",
        "# Tensor經過一個Layer得到下一個Tensor\n",
        "i = Input(shape=(28, 28, 512))\n",
        "# Conv2d() -> func\n",
        "i2 = Conv2D(128, 1, activation=\"relu\", padding=\"same\")(i)\n",
        "i3 = Conv2D(128, 3, activation=\"relu\", padding=\"same\")(i2)\n",
        "i4 = Conv2D(512, 1, activation=\"relu\", padding=\"same\")(i3)\n",
        "out = Add()([i, i4])\n",
        "res = Model(inputs=i, outputs=out)\n",
        "res.summary()"
      ],
      "execution_count": 18,
      "outputs": [
        {
          "output_type": "stream",
          "text": [
            "Model: \"model_1\"\n",
            "__________________________________________________________________________________________________\n",
            "Layer (type)                    Output Shape         Param #     Connected to                     \n",
            "==================================================================================================\n",
            "input_9 (InputLayer)            [(None, 28, 28, 512) 0                                            \n",
            "__________________________________________________________________________________________________\n",
            "conv2d_14 (Conv2D)              (None, 28, 28, 128)  65664       input_9[0][0]                    \n",
            "__________________________________________________________________________________________________\n",
            "conv2d_15 (Conv2D)              (None, 28, 28, 128)  147584      conv2d_14[0][0]                  \n",
            "__________________________________________________________________________________________________\n",
            "conv2d_16 (Conv2D)              (None, 28, 28, 512)  66048       conv2d_15[0][0]                  \n",
            "__________________________________________________________________________________________________\n",
            "add_4 (Add)                     (None, 28, 28, 512)  0           input_9[0][0]                    \n",
            "                                                                 conv2d_16[0][0]                  \n",
            "==================================================================================================\n",
            "Total params: 279,296\n",
            "Trainable params: 279,296\n",
            "Non-trainable params: 0\n",
            "__________________________________________________________________________________________________\n"
          ],
          "name": "stdout"
        }
      ]
    }
  ]
}